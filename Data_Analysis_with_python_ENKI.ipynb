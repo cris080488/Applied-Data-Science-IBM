{
  "nbformat": 4,
  "nbformat_minor": 0,
  "metadata": {
    "colab": {
      "name": "Data Analysis with python - ENKI",
      "provenance": [],
      "authorship_tag": "ABX9TyPYLQrmXoBes/Ae/zzvlakO",
      "include_colab_link": true
    },
    "kernelspec": {
      "name": "python3",
      "display_name": "Python 3"
    },
    "language_info": {
      "name": "python"
    }
  },
  "cells": [
    {
      "cell_type": "markdown",
      "metadata": {
        "id": "view-in-github",
        "colab_type": "text"
      },
      "source": [
        "<a href=\"https://colab.research.google.com/github/cris080488/Applied-Data-Science-IBM/blob/main/Data_Analysis_with_python_ENKI.ipynb\" target=\"_parent\"><img src=\"https://colab.research.google.com/assets/colab-badge.svg\" alt=\"Open In Colab\"/></a>"
      ]
    },
    {
      "cell_type": "markdown",
      "metadata": {
        "id": "6xQNhg-K5qmq"
      },
      "source": [
        "Preparing a Dataset\n"
      ]
    },
    {
      "cell_type": "code",
      "metadata": {
        "id": "VOMYRgvM59am"
      },
      "source": [
        "import pandas as pd\n",
        "import numpy as np\n",
        "import matplotlib.pyplot as plt\n"
      ],
      "execution_count": 82,
      "outputs": []
    },
    {
      "cell_type": "markdown",
      "metadata": {
        "id": "bkoFn5Tk7DrA"
      },
      "source": [
        "Creating a dataframe from Series"
      ]
    },
    {
      "cell_type": "code",
      "metadata": {
        "id": "yImL69ih5vgH"
      },
      "source": [
        "firstSeries = pd.Series([21,24,23])\n",
        "secondSeries = pd.Series([\"Stephan\", \"Marcus\", \"Emma\"])\n",
        "\n",
        "f = {\"Name\":secondSeries, \"Age\":firstSreies}\n",
        "\n",
        "df = pd.DataFrame(f)"
      ],
      "execution_count": 83,
      "outputs": []
    },
    {
      "cell_type": "markdown",
      "metadata": {
        "id": "kFH9nGrU7hT3"
      },
      "source": [
        "Creating a dataframe from csv file"
      ]
    },
    {
      "cell_type": "code",
      "metadata": {
        "id": "-iorZCYF7XHU"
      },
      "source": [
        "importedRawData = pd.read_csv('netflix_titles.csv')"
      ],
      "execution_count": 84,
      "outputs": []
    },
    {
      "cell_type": "markdown",
      "metadata": {
        "id": "-FOS2Pnf-Hcv"
      },
      "source": [
        "### Operations with dataframes"
      ]
    },
    {
      "cell_type": "markdown",
      "metadata": {
        "id": "ggZP9iIg-MgJ"
      },
      "source": [
        "Showing head and tail rows"
      ]
    },
    {
      "cell_type": "code",
      "metadata": {
        "colab": {
          "base_uri": "https://localhost:8080/",
          "height": 324
        },
        "id": "7u6JqvKQ8-RZ",
        "outputId": "ba14a224-c74a-4e54-8fb4-e71e3888cb74"
      },
      "source": [
        "importedRawData.head(3)\n"
      ],
      "execution_count": 85,
      "outputs": [
        {
          "output_type": "execute_result",
          "data": {
            "text/html": [
              "<div>\n",
              "<style scoped>\n",
              "    .dataframe tbody tr th:only-of-type {\n",
              "        vertical-align: middle;\n",
              "    }\n",
              "\n",
              "    .dataframe tbody tr th {\n",
              "        vertical-align: top;\n",
              "    }\n",
              "\n",
              "    .dataframe thead th {\n",
              "        text-align: right;\n",
              "    }\n",
              "</style>\n",
              "<table border=\"1\" class=\"dataframe\">\n",
              "  <thead>\n",
              "    <tr style=\"text-align: right;\">\n",
              "      <th></th>\n",
              "      <th>show_id</th>\n",
              "      <th>type</th>\n",
              "      <th>title</th>\n",
              "      <th>director</th>\n",
              "      <th>cast</th>\n",
              "      <th>country</th>\n",
              "      <th>date_added</th>\n",
              "      <th>release_year</th>\n",
              "      <th>rating</th>\n",
              "      <th>duration</th>\n",
              "      <th>listed_in</th>\n",
              "      <th>description</th>\n",
              "    </tr>\n",
              "  </thead>\n",
              "  <tbody>\n",
              "    <tr>\n",
              "      <th>0</th>\n",
              "      <td>s1</td>\n",
              "      <td>TV Show</td>\n",
              "      <td>3%</td>\n",
              "      <td>NaN</td>\n",
              "      <td>João Miguel, Bianca Comparato, Michel Gomes, R...</td>\n",
              "      <td>Brazil</td>\n",
              "      <td>August 14, 2020</td>\n",
              "      <td>2020</td>\n",
              "      <td>TV-MA</td>\n",
              "      <td>4 Seasons</td>\n",
              "      <td>International TV Shows, TV Dramas, TV Sci-Fi &amp;...</td>\n",
              "      <td>In a future where the elite inhabit an island ...</td>\n",
              "    </tr>\n",
              "    <tr>\n",
              "      <th>1</th>\n",
              "      <td>s2</td>\n",
              "      <td>Movie</td>\n",
              "      <td>7:19</td>\n",
              "      <td>Jorge Michel Grau</td>\n",
              "      <td>Demián Bichir, Héctor Bonilla, Oscar Serrano, ...</td>\n",
              "      <td>Mexico</td>\n",
              "      <td>December 23, 2016</td>\n",
              "      <td>2016</td>\n",
              "      <td>TV-MA</td>\n",
              "      <td>93 min</td>\n",
              "      <td>Dramas, International Movies</td>\n",
              "      <td>After a devastating earthquake hits Mexico Cit...</td>\n",
              "    </tr>\n",
              "    <tr>\n",
              "      <th>2</th>\n",
              "      <td>s3</td>\n",
              "      <td>Movie</td>\n",
              "      <td>23:59</td>\n",
              "      <td>Gilbert Chan</td>\n",
              "      <td>Tedd Chan, Stella Chung, Henley Hii, Lawrence ...</td>\n",
              "      <td>Singapore</td>\n",
              "      <td>December 20, 2018</td>\n",
              "      <td>2011</td>\n",
              "      <td>R</td>\n",
              "      <td>78 min</td>\n",
              "      <td>Horror Movies, International Movies</td>\n",
              "      <td>When an army recruit is found dead, his fellow...</td>\n",
              "    </tr>\n",
              "  </tbody>\n",
              "</table>\n",
              "</div>"
            ],
            "text/plain": [
              "  show_id  ...                                        description\n",
              "0      s1  ...  In a future where the elite inhabit an island ...\n",
              "1      s2  ...  After a devastating earthquake hits Mexico Cit...\n",
              "2      s3  ...  When an army recruit is found dead, his fellow...\n",
              "\n",
              "[3 rows x 12 columns]"
            ]
          },
          "metadata": {
            "tags": []
          },
          "execution_count": 85
        }
      ]
    },
    {
      "cell_type": "code",
      "metadata": {
        "colab": {
          "base_uri": "https://localhost:8080/",
          "height": 276
        },
        "id": "jA-AjoMa9B9R",
        "outputId": "58e367ec-58e2-4f11-8cef-17bca5f208ca"
      },
      "source": [
        "importedRawData.tail(2)"
      ],
      "execution_count": 86,
      "outputs": [
        {
          "output_type": "execute_result",
          "data": {
            "text/html": [
              "<div>\n",
              "<style scoped>\n",
              "    .dataframe tbody tr th:only-of-type {\n",
              "        vertical-align: middle;\n",
              "    }\n",
              "\n",
              "    .dataframe tbody tr th {\n",
              "        vertical-align: top;\n",
              "    }\n",
              "\n",
              "    .dataframe thead th {\n",
              "        text-align: right;\n",
              "    }\n",
              "</style>\n",
              "<table border=\"1\" class=\"dataframe\">\n",
              "  <thead>\n",
              "    <tr style=\"text-align: right;\">\n",
              "      <th></th>\n",
              "      <th>show_id</th>\n",
              "      <th>type</th>\n",
              "      <th>title</th>\n",
              "      <th>director</th>\n",
              "      <th>cast</th>\n",
              "      <th>country</th>\n",
              "      <th>date_added</th>\n",
              "      <th>release_year</th>\n",
              "      <th>rating</th>\n",
              "      <th>duration</th>\n",
              "      <th>listed_in</th>\n",
              "      <th>description</th>\n",
              "    </tr>\n",
              "  </thead>\n",
              "  <tbody>\n",
              "    <tr>\n",
              "      <th>7785</th>\n",
              "      <td>s7786</td>\n",
              "      <td>TV Show</td>\n",
              "      <td>Zumbo's Just Desserts</td>\n",
              "      <td>NaN</td>\n",
              "      <td>Adriano Zumbo, Rachel Khoo</td>\n",
              "      <td>Australia</td>\n",
              "      <td>October 31, 2020</td>\n",
              "      <td>2019</td>\n",
              "      <td>TV-PG</td>\n",
              "      <td>1 Season</td>\n",
              "      <td>International TV Shows, Reality TV</td>\n",
              "      <td>Dessert wizard Adriano Zumbo looks for the nex...</td>\n",
              "    </tr>\n",
              "    <tr>\n",
              "      <th>7786</th>\n",
              "      <td>s7787</td>\n",
              "      <td>Movie</td>\n",
              "      <td>ZZ TOP: THAT LITTLE OL' BAND FROM TEXAS</td>\n",
              "      <td>Sam Dunn</td>\n",
              "      <td>NaN</td>\n",
              "      <td>United Kingdom, Canada, United States</td>\n",
              "      <td>March 1, 2020</td>\n",
              "      <td>2019</td>\n",
              "      <td>TV-MA</td>\n",
              "      <td>90 min</td>\n",
              "      <td>Documentaries, Music &amp; Musicals</td>\n",
              "      <td>This documentary delves into the mystique behi...</td>\n",
              "    </tr>\n",
              "  </tbody>\n",
              "</table>\n",
              "</div>"
            ],
            "text/plain": [
              "     show_id  ...                                        description\n",
              "7785   s7786  ...  Dessert wizard Adriano Zumbo looks for the nex...\n",
              "7786   s7787  ...  This documentary delves into the mystique behi...\n",
              "\n",
              "[2 rows x 12 columns]"
            ]
          },
          "metadata": {
            "tags": []
          },
          "execution_count": 86
        }
      ]
    },
    {
      "cell_type": "markdown",
      "metadata": {
        "id": "47DsYRxE-e9g"
      },
      "source": [
        "The total amount null rows"
      ]
    },
    {
      "cell_type": "code",
      "metadata": {
        "colab": {
          "base_uri": "https://localhost:8080/"
        },
        "id": "AlYi0aW09YAT",
        "outputId": "750e9050-496d-42ab-c8fe-6f772758a935"
      },
      "source": [
        "importedRawData.isnull().sum()"
      ],
      "execution_count": 87,
      "outputs": [
        {
          "output_type": "execute_result",
          "data": {
            "text/plain": [
              "show_id            0\n",
              "type               0\n",
              "title              0\n",
              "director        2389\n",
              "cast             718\n",
              "country          507\n",
              "date_added        10\n",
              "release_year       0\n",
              "rating             7\n",
              "duration           0\n",
              "listed_in          0\n",
              "description        0\n",
              "dtype: int64"
            ]
          },
          "metadata": {
            "tags": []
          },
          "execution_count": 87
        }
      ]
    },
    {
      "cell_type": "markdown",
      "metadata": {
        "id": "_-lbTcs9-1D6"
      },
      "source": [
        "Droping columns of the dataframe"
      ]
    },
    {
      "cell_type": "code",
      "metadata": {
        "id": "RWPR53C69jNQ"
      },
      "source": [
        "importedData = importedRawData.drop( columns=[\"show_id\", \"description\", \"country\", \"date_added\", \"director\"])"
      ],
      "execution_count": 88,
      "outputs": []
    },
    {
      "cell_type": "markdown",
      "metadata": {
        "id": "tCvivbfz_FUa"
      },
      "source": [
        "Using loc function"
      ]
    },
    {
      "cell_type": "code",
      "metadata": {
        "id": "ft0QmhB794Ks"
      },
      "source": [
        "netflix_movies = importedData.loc[importedData['type'] == 'Movie']\n",
        "netflix_series = importedData.loc[importedData['type'] == 'TV Show']"
      ],
      "execution_count": 89,
      "outputs": []
    },
    {
      "cell_type": "code",
      "metadata": {
        "colab": {
          "base_uri": "https://localhost:8080/"
        },
        "id": "MyWmB5ygAKnF",
        "outputId": "231a5a7e-ca6e-4b13-8638-6ae3b2bb7a94"
      },
      "source": [
        "print(netflix_movies.count())\n",
        "print(netflix_series.count())"
      ],
      "execution_count": 90,
      "outputs": [
        {
          "output_type": "stream",
          "text": [
            "type            5377\n",
            "title           5377\n",
            "cast            4951\n",
            "release_year    5377\n",
            "rating          5372\n",
            "duration        5377\n",
            "listed_in       5377\n",
            "dtype: int64\n",
            "type            2410\n",
            "title           2410\n",
            "cast            2118\n",
            "release_year    2410\n",
            "rating          2408\n",
            "duration        2410\n",
            "listed_in       2410\n",
            "dtype: int64\n"
          ],
          "name": "stdout"
        }
      ]
    },
    {
      "cell_type": "markdown",
      "metadata": {
        "id": "k4JLnGn3A2A9"
      },
      "source": [
        "Plot a chart with matplotlib"
      ]
    },
    {
      "cell_type": "code",
      "metadata": {
        "colab": {
          "base_uri": "https://localhost:8080/",
          "height": 247
        },
        "id": "j53FYj4SATyK",
        "outputId": "20035059-3b66-4fd8-8328-7c71e32c0824"
      },
      "source": [
        "plt.pie([4265,1969])\n",
        "plt.show()"
      ],
      "execution_count": 91,
      "outputs": [
        {
          "output_type": "display_data",
          "data": {
            "image/png": "[encoded data removed]",
            "text/plain": [
              "<Figure size 432x288 with 1 Axes>"
            ]
          },
          "metadata": {
            "tags": []
          }
        }
      ]
    },
    {
      "cell_type": "code",
      "metadata": {
        "colab": {
          "base_uri": "https://localhost:8080/",
          "height": 247
        },
        "id": "OWekQC2zA78g",
        "outputId": "42ba46b1-4f96-4287-e580-9b80871b0603"
      },
      "source": [
        "plt.pie([netflix_movies.type.count(),\n",
        "        netflix_series.type.count()\n",
        "])\n",
        "\n",
        "plt.show()"
      ],
      "execution_count": 92,
      "outputs": [
        {
          "output_type": "display_data",
          "data": {
            "image/png": "[encoded data removed]",
            "text/plain": [
              "<Figure size 432x288 with 1 Axes>"
            ]
          },
          "metadata": {
            "tags": []
          }
        }
      ]
    },
    {
      "cell_type": "markdown",
      "metadata": {
        "id": "49zmpm86Bf5g"
      },
      "source": [
        "Plot labels and titles and formating them"
      ]
    },
    {
      "cell_type": "code",
      "metadata": {
        "colab": {
          "base_uri": "https://localhost:8080/",
          "height": 264
        },
        "id": "41e3ajVXA-Pe",
        "outputId": "6a596b08-1a58-4533-9dfe-57f6fa3828be"
      },
      "source": [
        "plt.pie([4265,1969],\n",
        "        labels=['Movies', 'TV Shows'],\n",
        "        textprops={'color':\"black\"},\n",
        "        autopct='%.2f',\n",
        "        explode=(0,0.1))\n",
        "\n",
        "plt.title('Movies vs TV in %',\n",
        "          color=\"blue\")\n",
        "plt.show()"
      ],
      "execution_count": 93,
      "outputs": [
        {
          "output_type": "display_data",
          "data": {
            "image/png": "[encoded data removed]",
            "text/plain": [
              "<Figure size 432x288 with 1 Axes>"
            ]
          },
          "metadata": {
            "tags": []
          }
        }
      ]
    },
    {
      "cell_type": "markdown",
      "metadata": {
        "id": "j3HTlt-8CciU"
      },
      "source": [
        "count values"
      ]
    },
    {
      "cell_type": "code",
      "metadata": {
        "id": "77lhrLLlB52M"
      },
      "source": [
        "movies_ratings = netflix_movies.value_counts('rating')"
      ],
      "execution_count": 94,
      "outputs": []
    },
    {
      "cell_type": "markdown",
      "metadata": {
        "id": "DM4Mhur9Ddfp"
      },
      "source": [
        "another ways to count values"
      ]
    },
    {
      "cell_type": "code",
      "metadata": {
        "colab": {
          "base_uri": "https://localhost:8080/"
        },
        "id": "Wd9-jfWRCYhE",
        "outputId": "a7caf4cb-621c-4ec3-84b7-828439417457"
      },
      "source": [
        "netflix_movies.rating.value_counts()"
      ],
      "execution_count": 95,
      "outputs": [
        {
          "output_type": "execute_result",
          "data": {
            "text/plain": [
              "TV-MA       1845\n",
              "TV-14       1272\n",
              "R            663\n",
              "TV-PG        505\n",
              "PG-13        386\n",
              "PG           247\n",
              "TV-Y         117\n",
              "TV-G         111\n",
              "TV-Y7         95\n",
              "NR            79\n",
              "G             39\n",
              "TV-Y7-FV       5\n",
              "UR             5\n",
              "NC-17          3\n",
              "Name: rating, dtype: int64"
            ]
          },
          "metadata": {
            "tags": []
          },
          "execution_count": 95
        }
      ]
    },
    {
      "cell_type": "code",
      "metadata": {
        "id": "j3QycAKHDwr-"
      },
      "source": [
        "ratingTVY = netflix_movies.loc[netflix_movies['rating'] == 'TV-Y'].count()"
      ],
      "execution_count": 96,
      "outputs": []
    },
    {
      "cell_type": "markdown",
      "metadata": {
        "id": "4nwMPaqjEV3U"
      },
      "source": [
        "Plot chart bars"
      ]
    },
    {
      "cell_type": "code",
      "metadata": {
        "colab": {
          "base_uri": "https://localhost:8080/",
          "height": 306
        },
        "id": "0N6H1unZEI8E",
        "outputId": "543679c5-94be-43fe-edde-91c71f3cad3c"
      },
      "source": [
        "movies_ratings.plot(kind='bar')\n",
        "plt.xticks(rotation = 45)\n",
        "plt.show()"
      ],
      "execution_count": 97,
      "outputs": [
        {
          "output_type": "display_data",
          "data": {
            "image/png": "[encoded data removed]",
            "text/plain": [
              "<Figure size 432x288 with 1 Axes>"
            ]
          },
          "metadata": {
            "tags": [],
            "needs_background": "light"
          }
        }
      ]
    },
    {
      "cell_type": "markdown",
      "metadata": {
        "id": "-yYreSkeGeg2"
      },
      "source": [
        ""
      ]
    },
    {
      "cell_type": "code",
      "metadata": {
        "id": "N4f6-4cFE00g"
      },
      "source": [
        "df2 = pd.DataFrame(\n",
        "    {\n",
        "        'col1':['A', 'A', 'A', 'B'],\n",
        "        'col2':[1,2,3,4]\n",
        "    }\n",
        ")"
      ],
      "execution_count": 98,
      "outputs": []
    },
    {
      "cell_type": "markdown",
      "metadata": {
        "id": "r-RUJdclGiBT"
      },
      "source": [
        "Grouping a dataframe"
      ]
    },
    {
      "cell_type": "code",
      "metadata": {
        "id": "V1mUYi6fGa3E"
      },
      "source": [
        "df2 = df2.groupby(\"col1\").size()"
      ],
      "execution_count": 99,
      "outputs": []
    },
    {
      "cell_type": "code",
      "metadata": {
        "colab": {
          "base_uri": "https://localhost:8080/",
          "height": 141
        },
        "id": "goIOoftuGrWk",
        "outputId": "87141b40-4e2f-43eb-f9d5-40b5b2fdc08c"
      },
      "source": [
        "df2.to_frame(name=\"sum\")"
      ],
      "execution_count": 100,
      "outputs": [
        {
          "output_type": "execute_result",
          "data": {
            "text/html": [
              "<div>\n",
              "<style scoped>\n",
              "    .dataframe tbody tr th:only-of-type {\n",
              "        vertical-align: middle;\n",
              "    }\n",
              "\n",
              "    .dataframe tbody tr th {\n",
              "        vertical-align: top;\n",
              "    }\n",
              "\n",
              "    .dataframe thead th {\n",
              "        text-align: right;\n",
              "    }\n",
              "</style>\n",
              "<table border=\"1\" class=\"dataframe\">\n",
              "  <thead>\n",
              "    <tr style=\"text-align: right;\">\n",
              "      <th></th>\n",
              "      <th>sum</th>\n",
              "    </tr>\n",
              "    <tr>\n",
              "      <th>col1</th>\n",
              "      <th></th>\n",
              "    </tr>\n",
              "  </thead>\n",
              "  <tbody>\n",
              "    <tr>\n",
              "      <th>A</th>\n",
              "      <td>3</td>\n",
              "    </tr>\n",
              "    <tr>\n",
              "      <th>B</th>\n",
              "      <td>1</td>\n",
              "    </tr>\n",
              "  </tbody>\n",
              "</table>\n",
              "</div>"
            ],
            "text/plain": [
              "      sum\n",
              "col1     \n",
              "A       3\n",
              "B       1"
            ]
          },
          "metadata": {
            "tags": []
          },
          "execution_count": 100
        }
      ]
    },
    {
      "cell_type": "code",
      "metadata": {
        "colab": {
          "base_uri": "https://localhost:8080/",
          "height": 110
        },
        "id": "utJLvF2zG1gJ",
        "outputId": "dab7d741-9326-4cf8-de5f-ad49691adf55"
      },
      "source": [
        "df2.reset_index(name='blah')"
      ],
      "execution_count": 101,
      "outputs": [
        {
          "output_type": "execute_result",
          "data": {
            "text/html": [
              "<div>\n",
              "<style scoped>\n",
              "    .dataframe tbody tr th:only-of-type {\n",
              "        vertical-align: middle;\n",
              "    }\n",
              "\n",
              "    .dataframe tbody tr th {\n",
              "        vertical-align: top;\n",
              "    }\n",
              "\n",
              "    .dataframe thead th {\n",
              "        text-align: right;\n",
              "    }\n",
              "</style>\n",
              "<table border=\"1\" class=\"dataframe\">\n",
              "  <thead>\n",
              "    <tr style=\"text-align: right;\">\n",
              "      <th></th>\n",
              "      <th>col1</th>\n",
              "      <th>blah</th>\n",
              "    </tr>\n",
              "  </thead>\n",
              "  <tbody>\n",
              "    <tr>\n",
              "      <th>0</th>\n",
              "      <td>A</td>\n",
              "      <td>3</td>\n",
              "    </tr>\n",
              "    <tr>\n",
              "      <th>1</th>\n",
              "      <td>B</td>\n",
              "      <td>1</td>\n",
              "    </tr>\n",
              "  </tbody>\n",
              "</table>\n",
              "</div>"
            ],
            "text/plain": [
              "  col1  blah\n",
              "0    A     3\n",
              "1    B     1"
            ]
          },
          "metadata": {
            "tags": []
          },
          "execution_count": 101
        }
      ]
    },
    {
      "cell_type": "markdown",
      "metadata": {
        "id": "JwmOUmO7Q0RC"
      },
      "source": [
        "Grouping with to_frame and reset_index"
      ]
    },
    {
      "cell_type": "code",
      "metadata": {
        "colab": {
          "base_uri": "https://localhost:8080/",
          "height": 324
        },
        "id": "90c2ZVOsHQVf",
        "outputId": "aa6587ea-d5e5-4066-8311-40e6304e5b25"
      },
      "source": [
        "netflix_series\\\n",
        ".groupby('rating').size()\\\n",
        ".sort_values(ascending=False)\\\n",
        ".to_frame(\"Sum of TV Shows\")\\\n",
        ".reset_index('rating')\n"
      ],
      "execution_count": 102,
      "outputs": [
        {
          "output_type": "execute_result",
          "data": {
            "text/html": [
              "<div>\n",
              "<style scoped>\n",
              "    .dataframe tbody tr th:only-of-type {\n",
              "        vertical-align: middle;\n",
              "    }\n",
              "\n",
              "    .dataframe tbody tr th {\n",
              "        vertical-align: top;\n",
              "    }\n",
              "\n",
              "    .dataframe thead th {\n",
              "        text-align: right;\n",
              "    }\n",
              "</style>\n",
              "<table border=\"1\" class=\"dataframe\">\n",
              "  <thead>\n",
              "    <tr style=\"text-align: right;\">\n",
              "      <th></th>\n",
              "      <th>rating</th>\n",
              "      <th>Sum of TV Shows</th>\n",
              "    </tr>\n",
              "  </thead>\n",
              "  <tbody>\n",
              "    <tr>\n",
              "      <th>0</th>\n",
              "      <td>TV-MA</td>\n",
              "      <td>1018</td>\n",
              "    </tr>\n",
              "    <tr>\n",
              "      <th>1</th>\n",
              "      <td>TV-14</td>\n",
              "      <td>659</td>\n",
              "    </tr>\n",
              "    <tr>\n",
              "      <th>2</th>\n",
              "      <td>TV-PG</td>\n",
              "      <td>301</td>\n",
              "    </tr>\n",
              "    <tr>\n",
              "      <th>3</th>\n",
              "      <td>TV-Y7</td>\n",
              "      <td>176</td>\n",
              "    </tr>\n",
              "    <tr>\n",
              "      <th>4</th>\n",
              "      <td>TV-Y</td>\n",
              "      <td>163</td>\n",
              "    </tr>\n",
              "    <tr>\n",
              "      <th>5</th>\n",
              "      <td>TV-G</td>\n",
              "      <td>83</td>\n",
              "    </tr>\n",
              "    <tr>\n",
              "      <th>6</th>\n",
              "      <td>NR</td>\n",
              "      <td>5</td>\n",
              "    </tr>\n",
              "    <tr>\n",
              "      <th>7</th>\n",
              "      <td>R</td>\n",
              "      <td>2</td>\n",
              "    </tr>\n",
              "    <tr>\n",
              "      <th>8</th>\n",
              "      <td>TV-Y7-FV</td>\n",
              "      <td>1</td>\n",
              "    </tr>\n",
              "  </tbody>\n",
              "</table>\n",
              "</div>"
            ],
            "text/plain": [
              "     rating  Sum of TV Shows\n",
              "0     TV-MA             1018\n",
              "1     TV-14              659\n",
              "2     TV-PG              301\n",
              "3     TV-Y7              176\n",
              "4      TV-Y              163\n",
              "5      TV-G               83\n",
              "6        NR                5\n",
              "7         R                2\n",
              "8  TV-Y7-FV                1"
            ]
          },
          "metadata": {
            "tags": []
          },
          "execution_count": 102
        }
      ]
    },
    {
      "cell_type": "markdown",
      "metadata": {
        "id": "MPcLWLklQiho"
      },
      "source": [
        "Same way with one less step"
      ]
    },
    {
      "cell_type": "code",
      "metadata": {
        "colab": {
          "base_uri": "https://localhost:8080/",
          "height": 324
        },
        "id": "PUAVk0k8P5bz",
        "outputId": "533fe982-734b-436d-cbab-d2696fb7df35"
      },
      "source": [
        "netflix_series\\\n",
        ".groupby('rating').size()\\\n",
        ".sort_values(ascending=False)\\\n",
        ".reset_index(name=\"Sum of TV Shows\")"
      ],
      "execution_count": 103,
      "outputs": [
        {
          "output_type": "execute_result",
          "data": {
            "text/html": [
              "<div>\n",
              "<style scoped>\n",
              "    .dataframe tbody tr th:only-of-type {\n",
              "        vertical-align: middle;\n",
              "    }\n",
              "\n",
              "    .dataframe tbody tr th {\n",
              "        vertical-align: top;\n",
              "    }\n",
              "\n",
              "    .dataframe thead th {\n",
              "        text-align: right;\n",
              "    }\n",
              "</style>\n",
              "<table border=\"1\" class=\"dataframe\">\n",
              "  <thead>\n",
              "    <tr style=\"text-align: right;\">\n",
              "      <th></th>\n",
              "      <th>rating</th>\n",
              "      <th>Sum of TV Shows</th>\n",
              "    </tr>\n",
              "  </thead>\n",
              "  <tbody>\n",
              "    <tr>\n",
              "      <th>0</th>\n",
              "      <td>TV-MA</td>\n",
              "      <td>1018</td>\n",
              "    </tr>\n",
              "    <tr>\n",
              "      <th>1</th>\n",
              "      <td>TV-14</td>\n",
              "      <td>659</td>\n",
              "    </tr>\n",
              "    <tr>\n",
              "      <th>2</th>\n",
              "      <td>TV-PG</td>\n",
              "      <td>301</td>\n",
              "    </tr>\n",
              "    <tr>\n",
              "      <th>3</th>\n",
              "      <td>TV-Y7</td>\n",
              "      <td>176</td>\n",
              "    </tr>\n",
              "    <tr>\n",
              "      <th>4</th>\n",
              "      <td>TV-Y</td>\n",
              "      <td>163</td>\n",
              "    </tr>\n",
              "    <tr>\n",
              "      <th>5</th>\n",
              "      <td>TV-G</td>\n",
              "      <td>83</td>\n",
              "    </tr>\n",
              "    <tr>\n",
              "      <th>6</th>\n",
              "      <td>NR</td>\n",
              "      <td>5</td>\n",
              "    </tr>\n",
              "    <tr>\n",
              "      <th>7</th>\n",
              "      <td>R</td>\n",
              "      <td>2</td>\n",
              "    </tr>\n",
              "    <tr>\n",
              "      <th>8</th>\n",
              "      <td>TV-Y7-FV</td>\n",
              "      <td>1</td>\n",
              "    </tr>\n",
              "  </tbody>\n",
              "</table>\n",
              "</div>"
            ],
            "text/plain": [
              "     rating  Sum of TV Shows\n",
              "0     TV-MA             1018\n",
              "1     TV-14              659\n",
              "2     TV-PG              301\n",
              "3     TV-Y7              176\n",
              "4      TV-Y              163\n",
              "5      TV-G               83\n",
              "6        NR                5\n",
              "7         R                2\n",
              "8  TV-Y7-FV                1"
            ]
          },
          "metadata": {
            "tags": []
          },
          "execution_count": 103
        }
      ]
    },
    {
      "cell_type": "markdown",
      "metadata": {
        "id": "OHSv7iNIQ6eg"
      },
      "source": [
        ""
      ]
    },
    {
      "cell_type": "code",
      "metadata": {
        "id": "aTSFYi5TQXB6"
      },
      "source": [
        "shows_per_rating = netflix_series\\\n",
        ".groupby('rating').size()\\\n",
        ".sort_values(ascending=False)\\\n",
        ".reset_index(name=\"Sum of TV Shows\")"
      ],
      "execution_count": 104,
      "outputs": []
    },
    {
      "cell_type": "code",
      "metadata": {
        "colab": {
          "base_uri": "https://localhost:8080/",
          "height": 313
        },
        "id": "ewYeszK0RLAE",
        "outputId": "f9153114-c406-4726-beb0-7b1ce805892c"
      },
      "source": [
        "shows_per_rating.plot(\n",
        "    x=\"rating\",\n",
        "    y=\"Sum of TV Shows\",\n",
        "    kind=\"bar\",\n",
        "    color=['red', 'green', 'blue']\n",
        ")\n",
        "\n",
        "plt.show()"
      ],
      "execution_count": 105,
      "outputs": [
        {
          "output_type": "display_data",
          "data": {
            "image/png": "[encoded data removed]",
            "text/plain": [
              "<Figure size 432x288 with 1 Axes>"
            ]
          },
          "metadata": {
            "tags": [],
            "needs_background": "light"
          }
        }
      ]
    },
    {
      "cell_type": "code",
      "metadata": {
        "id": "rssWkgvdRhMG"
      },
      "source": [
        "movies_by_released_year = netflix_series\\\n",
        ".groupby('release_year').size()\\\n",
        ".sort_values(ascending=False)\\\n",
        ".reset_index(name='movie_count')"
      ],
      "execution_count": 106,
      "outputs": []
    },
    {
      "cell_type": "code",
      "metadata": {
        "id": "4IkF1cGoSAGj"
      },
      "source": [
        "movies_before_1980 = movies_by_released_year[movies_by_released_year['release_year']<=1980] \n",
        "\n",
        "movies_between_1980_2000 = movies_by_released_year[(movies_by_released_year['release_year'] > 1980) & (movies_by_released_year['release_year'] < 2000)] \n",
        "\n",
        "movies_after_2000 = movies_by_released_year[movies_by_released_year['release_year'] >= 2000]"
      ],
      "execution_count": 107,
      "outputs": []
    },
    {
      "cell_type": "code",
      "metadata": {
        "id": "MbjK9YuBTFzS"
      },
      "source": [
        "after_2000 = movies_after_2000.sort_values('release_year', ascending=False)\n",
        "\n",
        "before_1979 = movies_before_1980.sort_values('release_year', ascending=False)\n",
        "\n",
        "between_1980_2000 = movies_between_1980_2000.sort_values('release_year', ascending=False)"
      ],
      "execution_count": 108,
      "outputs": []
    },
    {
      "cell_type": "code",
      "metadata": {
        "colab": {
          "base_uri": "https://localhost:8080/",
          "height": 294
        },
        "id": "4E1rQXm6T6-S",
        "outputId": "e924789c-6c0d-4574-888b-9cab17482608"
      },
      "source": [
        "plt.plot(before_1979.release_year,\\\n",
        "         before_1979.movie_count,\\\n",
        "         label=\"Until 1979\",\\\n",
        "         linestyle='--',\\\n",
        "         marker='o',\\\n",
        "         color='g'\n",
        "         )\n",
        "\n",
        "plt.xlabel('Release Year')\n",
        "plt.ylabel('Count')\n",
        "plt.title('Movie VS TV Show count by release year')\n",
        "plt.legend()\n",
        "plt.show()"
      ],
      "execution_count": 109,
      "outputs": [
        {
          "output_type": "display_data",
          "data": {
            "image/png": "[encoded data removed]",
            "text/plain": [
              "<Figure size 432x288 with 1 Axes>"
            ]
          },
          "metadata": {
            "tags": [],
            "needs_background": "light"
          }
        }
      ]
    },
    {
      "cell_type": "code",
      "metadata": {
        "id": "-S9UJkbaU6NM"
      },
      "source": [
        "noNanValueDF = importedData.dropna(subset=['cast'])"
      ],
      "execution_count": 118,
      "outputs": []
    },
    {
      "cell_type": "code",
      "metadata": {
        "id": "dM6IemB1XgNR"
      },
      "source": [
        "movieCast = noNanValueDF.loc[noNanValueDF['type'] == 'Movie']\n",
        "\n",
        "tvshowCast = noNanValueDF.loc[noNanValueDF['type'] == 'TV Show']"
      ],
      "execution_count": 119,
      "outputs": []
    },
    {
      "cell_type": "code",
      "metadata": {
        "id": "ieA2ECQNY1Lh"
      },
      "source": [
        "splitMovieCast = movieCast.set_index('type')\\\n",
        ".cast.str.split(', ', expand=True)\\\n",
        ".stack()\\\n",
        ".reset_index('type')"
      ],
      "execution_count": 131,
      "outputs": []
    },
    {
      "cell_type": "code",
      "metadata": {
        "id": "UTFbq_M5fiqd"
      },
      "source": [
        "splitMovieCast = \\\n",
        "  splitMovieCast\\\n",
        "  .rename(columns={0:'Actor'})"
      ],
      "execution_count": 132,
      "outputs": []
    },
    {
      "cell_type": "code",
      "metadata": {
        "colab": {
          "base_uri": "https://localhost:8080/",
          "height": 414
        },
        "id": "AugrmJBDfvi3",
        "outputId": "4f35a76b-c37f-4534-81b7-61515a5ffb3c"
      },
      "source": [
        "splitMovieCast\\\n",
        "    .sort_values('Actor')[['Actor','type']]"
      ],
      "execution_count": 135,
      "outputs": [
        {
          "output_type": "execute_result",
          "data": {
            "text/html": [
              "<div>\n",
              "<style scoped>\n",
              "    .dataframe tbody tr th:only-of-type {\n",
              "        vertical-align: middle;\n",
              "    }\n",
              "\n",
              "    .dataframe tbody tr th {\n",
              "        vertical-align: top;\n",
              "    }\n",
              "\n",
              "    .dataframe thead th {\n",
              "        text-align: right;\n",
              "    }\n",
              "</style>\n",
              "<table border=\"1\" class=\"dataframe\">\n",
              "  <thead>\n",
              "    <tr style=\"text-align: right;\">\n",
              "      <th></th>\n",
              "      <th>Actor</th>\n",
              "      <th>type</th>\n",
              "    </tr>\n",
              "  </thead>\n",
              "  <tbody>\n",
              "    <tr>\n",
              "      <th>6</th>\n",
              "      <td>Jr.</td>\n",
              "      <td>Movie</td>\n",
              "    </tr>\n",
              "    <tr>\n",
              "      <th>6</th>\n",
              "      <td>\"Riley\" Lakdhar Dridi</td>\n",
              "      <td>Movie</td>\n",
              "    </tr>\n",
              "    <tr>\n",
              "      <th>5</th>\n",
              "      <td>'Najite Dede</td>\n",
              "      <td>Movie</td>\n",
              "    </tr>\n",
              "    <tr>\n",
              "      <th>0</th>\n",
              "      <td>4Minute</td>\n",
              "      <td>Movie</td>\n",
              "    </tr>\n",
              "    <tr>\n",
              "      <th>7</th>\n",
              "      <td>50 Cent</td>\n",
              "      <td>Movie</td>\n",
              "    </tr>\n",
              "    <tr>\n",
              "      <th>...</th>\n",
              "      <td>...</td>\n",
              "      <td>...</td>\n",
              "    </tr>\n",
              "    <tr>\n",
              "      <th>7</th>\n",
              "      <td>Şinasi Yurtsever</td>\n",
              "      <td>Movie</td>\n",
              "    </tr>\n",
              "    <tr>\n",
              "      <th>6</th>\n",
              "      <td>Şinasi Yurtsever</td>\n",
              "      <td>Movie</td>\n",
              "    </tr>\n",
              "    <tr>\n",
              "      <th>3</th>\n",
              "      <td>Şükran Ovalı</td>\n",
              "      <td>Movie</td>\n",
              "    </tr>\n",
              "    <tr>\n",
              "      <th>5</th>\n",
              "      <td>Şükrü Özyıldız</td>\n",
              "      <td>Movie</td>\n",
              "    </tr>\n",
              "    <tr>\n",
              "      <th>0</th>\n",
              "      <td>Ṣọpẹ́ Dìrísù</td>\n",
              "      <td>Movie</td>\n",
              "    </tr>\n",
              "  </tbody>\n",
              "</table>\n",
              "<p>38312 rows × 2 columns</p>\n",
              "</div>"
            ],
            "text/plain": [
              "                    Actor   type\n",
              "6                     Jr.  Movie\n",
              "6   \"Riley\" Lakdhar Dridi  Movie\n",
              "5            'Najite Dede  Movie\n",
              "0                 4Minute  Movie\n",
              "7                 50 Cent  Movie\n",
              "..                    ...    ...\n",
              "7        Şinasi Yurtsever  Movie\n",
              "6        Şinasi Yurtsever  Movie\n",
              "3            Şükran Ovalı  Movie\n",
              "5          Şükrü Özyıldız  Movie\n",
              "0            Ṣọpẹ́ Dìrísù  Movie\n",
              "\n",
              "[38312 rows x 2 columns]"
            ]
          },
          "metadata": {
            "tags": []
          },
          "execution_count": 135
        }
      ]
    },
    {
      "cell_type": "code",
      "metadata": {
        "colab": {
          "base_uri": "https://localhost:8080/",
          "height": 414
        },
        "id": "0ICC4GNRgIqc",
        "outputId": "55b22897-a6ad-4b2d-eaa3-35f6035db96d"
      },
      "source": [
        "splitMovieCast.reset_index(drop=True)"
      ],
      "execution_count": 136,
      "outputs": [
        {
          "output_type": "execute_result",
          "data": {
            "text/html": [
              "<div>\n",
              "<style scoped>\n",
              "    .dataframe tbody tr th:only-of-type {\n",
              "        vertical-align: middle;\n",
              "    }\n",
              "\n",
              "    .dataframe tbody tr th {\n",
              "        vertical-align: top;\n",
              "    }\n",
              "\n",
              "    .dataframe thead th {\n",
              "        text-align: right;\n",
              "    }\n",
              "</style>\n",
              "<table border=\"1\" class=\"dataframe\">\n",
              "  <thead>\n",
              "    <tr style=\"text-align: right;\">\n",
              "      <th></th>\n",
              "      <th>type</th>\n",
              "      <th>Actor</th>\n",
              "    </tr>\n",
              "  </thead>\n",
              "  <tbody>\n",
              "    <tr>\n",
              "      <th>0</th>\n",
              "      <td>Movie</td>\n",
              "      <td>Demián Bichir</td>\n",
              "    </tr>\n",
              "    <tr>\n",
              "      <th>1</th>\n",
              "      <td>Movie</td>\n",
              "      <td>Héctor Bonilla</td>\n",
              "    </tr>\n",
              "    <tr>\n",
              "      <th>2</th>\n",
              "      <td>Movie</td>\n",
              "      <td>Oscar Serrano</td>\n",
              "    </tr>\n",
              "    <tr>\n",
              "      <th>3</th>\n",
              "      <td>Movie</td>\n",
              "      <td>Azalia Ortiz</td>\n",
              "    </tr>\n",
              "    <tr>\n",
              "      <th>4</th>\n",
              "      <td>Movie</td>\n",
              "      <td>Octavio Michel</td>\n",
              "    </tr>\n",
              "    <tr>\n",
              "      <th>...</th>\n",
              "      <td>...</td>\n",
              "      <td>...</td>\n",
              "    </tr>\n",
              "    <tr>\n",
              "      <th>38307</th>\n",
              "      <td>Movie</td>\n",
              "      <td>Meghna Malik</td>\n",
              "    </tr>\n",
              "    <tr>\n",
              "      <th>38308</th>\n",
              "      <td>Movie</td>\n",
              "      <td>Malkeet Rauni</td>\n",
              "    </tr>\n",
              "    <tr>\n",
              "      <th>38309</th>\n",
              "      <td>Movie</td>\n",
              "      <td>Anita Shabdish</td>\n",
              "    </tr>\n",
              "    <tr>\n",
              "      <th>38310</th>\n",
              "      <td>Movie</td>\n",
              "      <td>Chittaranjan Tripathy</td>\n",
              "    </tr>\n",
              "    <tr>\n",
              "      <th>38311</th>\n",
              "      <td>Movie</td>\n",
              "      <td>Nasty C</td>\n",
              "    </tr>\n",
              "  </tbody>\n",
              "</table>\n",
              "<p>38312 rows × 2 columns</p>\n",
              "</div>"
            ],
            "text/plain": [
              "        type                  Actor\n",
              "0      Movie          Demián Bichir\n",
              "1      Movie         Héctor Bonilla\n",
              "2      Movie          Oscar Serrano\n",
              "3      Movie           Azalia Ortiz\n",
              "4      Movie         Octavio Michel\n",
              "...      ...                    ...\n",
              "38307  Movie           Meghna Malik\n",
              "38308  Movie          Malkeet Rauni\n",
              "38309  Movie         Anita Shabdish\n",
              "38310  Movie  Chittaranjan Tripathy\n",
              "38311  Movie                Nasty C\n",
              "\n",
              "[38312 rows x 2 columns]"
            ]
          },
          "metadata": {
            "tags": []
          },
          "execution_count": 136
        }
      ]
    },
    {
      "cell_type": "code",
      "metadata": {
        "colab": {
          "base_uri": "https://localhost:8080/",
          "height": 414
        },
        "id": "F-to-4DqgO4f",
        "outputId": "0e9dff41-b197-453f-8dd2-d645c371aae5"
      },
      "source": [
        "splitMovieCast.reset_index()"
      ],
      "execution_count": 137,
      "outputs": [
        {
          "output_type": "execute_result",
          "data": {
            "text/html": [
              "<div>\n",
              "<style scoped>\n",
              "    .dataframe tbody tr th:only-of-type {\n",
              "        vertical-align: middle;\n",
              "    }\n",
              "\n",
              "    .dataframe tbody tr th {\n",
              "        vertical-align: top;\n",
              "    }\n",
              "\n",
              "    .dataframe thead th {\n",
              "        text-align: right;\n",
              "    }\n",
              "</style>\n",
              "<table border=\"1\" class=\"dataframe\">\n",
              "  <thead>\n",
              "    <tr style=\"text-align: right;\">\n",
              "      <th></th>\n",
              "      <th>index</th>\n",
              "      <th>type</th>\n",
              "      <th>Actor</th>\n",
              "    </tr>\n",
              "  </thead>\n",
              "  <tbody>\n",
              "    <tr>\n",
              "      <th>0</th>\n",
              "      <td>0</td>\n",
              "      <td>Movie</td>\n",
              "      <td>Demián Bichir</td>\n",
              "    </tr>\n",
              "    <tr>\n",
              "      <th>1</th>\n",
              "      <td>1</td>\n",
              "      <td>Movie</td>\n",
              "      <td>Héctor Bonilla</td>\n",
              "    </tr>\n",
              "    <tr>\n",
              "      <th>2</th>\n",
              "      <td>2</td>\n",
              "      <td>Movie</td>\n",
              "      <td>Oscar Serrano</td>\n",
              "    </tr>\n",
              "    <tr>\n",
              "      <th>3</th>\n",
              "      <td>3</td>\n",
              "      <td>Movie</td>\n",
              "      <td>Azalia Ortiz</td>\n",
              "    </tr>\n",
              "    <tr>\n",
              "      <th>4</th>\n",
              "      <td>4</td>\n",
              "      <td>Movie</td>\n",
              "      <td>Octavio Michel</td>\n",
              "    </tr>\n",
              "    <tr>\n",
              "      <th>...</th>\n",
              "      <td>...</td>\n",
              "      <td>...</td>\n",
              "      <td>...</td>\n",
              "    </tr>\n",
              "    <tr>\n",
              "      <th>38307</th>\n",
              "      <td>4</td>\n",
              "      <td>Movie</td>\n",
              "      <td>Meghna Malik</td>\n",
              "    </tr>\n",
              "    <tr>\n",
              "      <th>38308</th>\n",
              "      <td>5</td>\n",
              "      <td>Movie</td>\n",
              "      <td>Malkeet Rauni</td>\n",
              "    </tr>\n",
              "    <tr>\n",
              "      <th>38309</th>\n",
              "      <td>6</td>\n",
              "      <td>Movie</td>\n",
              "      <td>Anita Shabdish</td>\n",
              "    </tr>\n",
              "    <tr>\n",
              "      <th>38310</th>\n",
              "      <td>7</td>\n",
              "      <td>Movie</td>\n",
              "      <td>Chittaranjan Tripathy</td>\n",
              "    </tr>\n",
              "    <tr>\n",
              "      <th>38311</th>\n",
              "      <td>0</td>\n",
              "      <td>Movie</td>\n",
              "      <td>Nasty C</td>\n",
              "    </tr>\n",
              "  </tbody>\n",
              "</table>\n",
              "<p>38312 rows × 3 columns</p>\n",
              "</div>"
            ],
            "text/plain": [
              "       index   type                  Actor\n",
              "0          0  Movie          Demián Bichir\n",
              "1          1  Movie         Héctor Bonilla\n",
              "2          2  Movie          Oscar Serrano\n",
              "3          3  Movie           Azalia Ortiz\n",
              "4          4  Movie         Octavio Michel\n",
              "...      ...    ...                    ...\n",
              "38307      4  Movie           Meghna Malik\n",
              "38308      5  Movie          Malkeet Rauni\n",
              "38309      6  Movie         Anita Shabdish\n",
              "38310      7  Movie  Chittaranjan Tripathy\n",
              "38311      0  Movie                Nasty C\n",
              "\n",
              "[38312 rows x 3 columns]"
            ]
          },
          "metadata": {
            "tags": []
          },
          "execution_count": 137
        }
      ]
    },
    {
      "cell_type": "code",
      "metadata": {
        "id": "7m1vD84tZpjS"
      },
      "source": [
        "moviePerActor = splitMovieCast\\\n",
        ".groupby('Actor')\\\n",
        ".size()\\\n",
        ".sort_values(ascending=False)\\\n",
        ".reset_index(name=\"Sum of Movies\")"
      ],
      "execution_count": 138,
      "outputs": []
    },
    {
      "cell_type": "code",
      "metadata": {
        "colab": {
          "base_uri": "https://localhost:8080/",
          "height": 414
        },
        "id": "90xbxu1ZahLd",
        "outputId": "62fa3bcb-97ce-48aa-b8a5-64c57b181bc3"
      },
      "source": [
        "moviePerActor"
      ],
      "execution_count": 139,
      "outputs": [
        {
          "output_type": "execute_result",
          "data": {
            "text/html": [
              "<div>\n",
              "<style scoped>\n",
              "    .dataframe tbody tr th:only-of-type {\n",
              "        vertical-align: middle;\n",
              "    }\n",
              "\n",
              "    .dataframe tbody tr th {\n",
              "        vertical-align: top;\n",
              "    }\n",
              "\n",
              "    .dataframe thead th {\n",
              "        text-align: right;\n",
              "    }\n",
              "</style>\n",
              "<table border=\"1\" class=\"dataframe\">\n",
              "  <thead>\n",
              "    <tr style=\"text-align: right;\">\n",
              "      <th></th>\n",
              "      <th>Actor</th>\n",
              "      <th>Sum of Movies</th>\n",
              "    </tr>\n",
              "  </thead>\n",
              "  <tbody>\n",
              "    <tr>\n",
              "      <th>0</th>\n",
              "      <td>Anupam Kher</td>\n",
              "      <td>41</td>\n",
              "    </tr>\n",
              "    <tr>\n",
              "      <th>1</th>\n",
              "      <td>Shah Rukh Khan</td>\n",
              "      <td>35</td>\n",
              "    </tr>\n",
              "    <tr>\n",
              "      <th>2</th>\n",
              "      <td>Naseeruddin Shah</td>\n",
              "      <td>30</td>\n",
              "    </tr>\n",
              "    <tr>\n",
              "      <th>3</th>\n",
              "      <td>Om Puri</td>\n",
              "      <td>30</td>\n",
              "    </tr>\n",
              "    <tr>\n",
              "      <th>4</th>\n",
              "      <td>Akshay Kumar</td>\n",
              "      <td>29</td>\n",
              "    </tr>\n",
              "    <tr>\n",
              "      <th>...</th>\n",
              "      <td>...</td>\n",
              "      <td>...</td>\n",
              "    </tr>\n",
              "    <tr>\n",
              "      <th>23044</th>\n",
              "      <td>Mei Nagano</td>\n",
              "      <td>1</td>\n",
              "    </tr>\n",
              "    <tr>\n",
              "      <th>23045</th>\n",
              "      <td>Mel Johnson Jr.</td>\n",
              "      <td>1</td>\n",
              "    </tr>\n",
              "    <tr>\n",
              "      <th>23046</th>\n",
              "      <td>Mela Lee</td>\n",
              "      <td>1</td>\n",
              "    </tr>\n",
              "    <tr>\n",
              "      <th>23047</th>\n",
              "      <td>Melanie Chandra</td>\n",
              "      <td>1</td>\n",
              "    </tr>\n",
              "    <tr>\n",
              "      <th>23048</th>\n",
              "      <td>Jr.</td>\n",
              "      <td>1</td>\n",
              "    </tr>\n",
              "  </tbody>\n",
              "</table>\n",
              "<p>23049 rows × 2 columns</p>\n",
              "</div>"
            ],
            "text/plain": [
              "                  Actor  Sum of Movies\n",
              "0           Anupam Kher             41\n",
              "1        Shah Rukh Khan             35\n",
              "2      Naseeruddin Shah             30\n",
              "3               Om Puri             30\n",
              "4          Akshay Kumar             29\n",
              "...                 ...            ...\n",
              "23044        Mei Nagano              1\n",
              "23045   Mel Johnson Jr.              1\n",
              "23046          Mela Lee              1\n",
              "23047   Melanie Chandra              1\n",
              "23048               Jr.              1\n",
              "\n",
              "[23049 rows x 2 columns]"
            ]
          },
          "metadata": {
            "tags": []
          },
          "execution_count": 139
        }
      ]
    },
    {
      "cell_type": "code",
      "metadata": {
        "id": "g-7bP1idgYYb"
      },
      "source": [
        ""
      ],
      "execution_count": null,
      "outputs": []
    }
  ]
}